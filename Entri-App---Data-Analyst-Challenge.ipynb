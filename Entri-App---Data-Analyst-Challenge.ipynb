{
 "cells": [
  {
   "cell_type": "code",
   "execution_count": 72,
   "id": "85c19a8d",
   "metadata": {},
   "outputs": [],
   "source": [
    "import pandas as pd\n",
    "import seaborn as sns\n",
    "import numpy as np\n",
    "import matplotlib.pyplot as plt\n",
    "%matplotlib inline"
   ]
  },
  {
   "cell_type": "markdown",
   "id": "6c240a0b",
   "metadata": {},
   "source": [
    "## User Purchase "
   ]
  },
  {
   "cell_type": "code",
   "execution_count": 110,
   "id": "1a95de9e",
   "metadata": {},
   "outputs": [
    {
     "name": "stdout",
     "output_type": "stream",
     "text": [
      "<class 'pandas.core.frame.DataFrame'>\n",
      "RangeIndex: 1000 entries, 0 to 999\n",
      "Data columns (total 3 columns):\n",
      " #   Column                  Non-Null Count  Dtype \n",
      "---  ------                  --------------  ----- \n",
      " 0   user_uid                1000 non-null   int64 \n",
      " 1   date_joined             1000 non-null   object\n",
      " 2   date_of_first_purhcase  576 non-null    object\n",
      "dtypes: int64(1), object(2)\n",
      "memory usage: 23.6+ KB\n"
     ]
    }
   ],
   "source": [
    "#loading the data \n",
    "user_purchase = pd.read_csv(\"user_purchase_data.csv\")\n",
    "user_purchase.info()"
   ]
  },
  {
   "cell_type": "code",
   "execution_count": 69,
   "id": "5765a2ff",
   "metadata": {},
   "outputs": [
    {
     "data": {
      "text/html": [
       "<div>\n",
       "<style scoped>\n",
       "    .dataframe tbody tr th:only-of-type {\n",
       "        vertical-align: middle;\n",
       "    }\n",
       "\n",
       "    .dataframe tbody tr th {\n",
       "        vertical-align: top;\n",
       "    }\n",
       "\n",
       "    .dataframe thead th {\n",
       "        text-align: right;\n",
       "    }\n",
       "</style>\n",
       "<table border=\"1\" class=\"dataframe\">\n",
       "  <thead>\n",
       "    <tr style=\"text-align: right;\">\n",
       "      <th></th>\n",
       "      <th>user_uid</th>\n",
       "      <th>purchase_Date</th>\n",
       "      <th>join_Date</th>\n",
       "      <th>Diffrenece</th>\n",
       "    </tr>\n",
       "  </thead>\n",
       "  <tbody>\n",
       "    <tr>\n",
       "      <th>0</th>\n",
       "      <td>6</td>\n",
       "      <td>2021-06-04</td>\n",
       "      <td>2021-06-04</td>\n",
       "      <td>0 days</td>\n",
       "    </tr>\n",
       "    <tr>\n",
       "      <th>1</th>\n",
       "      <td>608</td>\n",
       "      <td>NaT</td>\n",
       "      <td>2021-06-04</td>\n",
       "      <td>NaT</td>\n",
       "    </tr>\n",
       "    <tr>\n",
       "      <th>2</th>\n",
       "      <td>635</td>\n",
       "      <td>NaT</td>\n",
       "      <td>2021-06-04</td>\n",
       "      <td>NaT</td>\n",
       "    </tr>\n",
       "    <tr>\n",
       "      <th>3</th>\n",
       "      <td>745</td>\n",
       "      <td>NaT</td>\n",
       "      <td>2021-06-04</td>\n",
       "      <td>NaT</td>\n",
       "    </tr>\n",
       "    <tr>\n",
       "      <th>4</th>\n",
       "      <td>1506</td>\n",
       "      <td>NaT</td>\n",
       "      <td>2021-06-04</td>\n",
       "      <td>NaT</td>\n",
       "    </tr>\n",
       "  </tbody>\n",
       "</table>\n",
       "</div>"
      ],
      "text/plain": [
       "   user_uid purchase_Date  join_Date Diffrenece\n",
       "0         6    2021-06-04 2021-06-04     0 days\n",
       "1       608           NaT 2021-06-04        NaT\n",
       "2       635           NaT 2021-06-04        NaT\n",
       "3       745           NaT 2021-06-04        NaT\n",
       "4      1506           NaT 2021-06-04        NaT"
      ]
     },
     "execution_count": 69,
     "metadata": {},
     "output_type": "execute_result"
    }
   ],
   "source": [
    "#convert date variable in to date format and finding the diiference between purchase date and join date\n",
    "user_purchase[\"purchase_Date\"] = pd.to_datetime(user_purchase[\"date_of_first_purhcase\"])\n",
    "user_purchase[\"join_Date\"] = pd.to_datetime(user_purchase[\"date_joined\"])\n",
    "user_purchase=user_purchase.drop(['date_of_first_purhcase','date_joined'],axis=1)\n",
    "user_purchase[\"Diffrenece\"]=user_purchase[\"purchase_Date\"].sub(user_purchase[\"join_Date\"], axis=0)\n",
    "user_purchase.head()"
   ]
  },
  {
   "cell_type": "code",
   "execution_count": 70,
   "id": "3f078545",
   "metadata": {},
   "outputs": [
    {
     "data": {
      "text/html": [
       "<div>\n",
       "<style scoped>\n",
       "    .dataframe tbody tr th:only-of-type {\n",
       "        vertical-align: middle;\n",
       "    }\n",
       "\n",
       "    .dataframe tbody tr th {\n",
       "        vertical-align: top;\n",
       "    }\n",
       "\n",
       "    .dataframe thead th {\n",
       "        text-align: right;\n",
       "    }\n",
       "</style>\n",
       "<table border=\"1\" class=\"dataframe\">\n",
       "  <thead>\n",
       "    <tr style=\"text-align: right;\">\n",
       "      <th></th>\n",
       "      <th>user_uid</th>\n",
       "      <th>purchase_Date</th>\n",
       "      <th>join_Date</th>\n",
       "      <th>Diffrenece</th>\n",
       "      <th>Paid with in a week</th>\n",
       "    </tr>\n",
       "  </thead>\n",
       "  <tbody>\n",
       "    <tr>\n",
       "      <th>0</th>\n",
       "      <td>6</td>\n",
       "      <td>2021-06-04</td>\n",
       "      <td>2021-06-04</td>\n",
       "      <td>0 days</td>\n",
       "      <td>True</td>\n",
       "    </tr>\n",
       "    <tr>\n",
       "      <th>1</th>\n",
       "      <td>608</td>\n",
       "      <td>NaT</td>\n",
       "      <td>2021-06-04</td>\n",
       "      <td>NaT</td>\n",
       "      <td>False</td>\n",
       "    </tr>\n",
       "    <tr>\n",
       "      <th>2</th>\n",
       "      <td>635</td>\n",
       "      <td>NaT</td>\n",
       "      <td>2021-06-04</td>\n",
       "      <td>NaT</td>\n",
       "      <td>False</td>\n",
       "    </tr>\n",
       "    <tr>\n",
       "      <th>3</th>\n",
       "      <td>745</td>\n",
       "      <td>NaT</td>\n",
       "      <td>2021-06-04</td>\n",
       "      <td>NaT</td>\n",
       "      <td>False</td>\n",
       "    </tr>\n",
       "    <tr>\n",
       "      <th>4</th>\n",
       "      <td>1506</td>\n",
       "      <td>NaT</td>\n",
       "      <td>2021-06-04</td>\n",
       "      <td>NaT</td>\n",
       "      <td>False</td>\n",
       "    </tr>\n",
       "  </tbody>\n",
       "</table>\n",
       "</div>"
      ],
      "text/plain": [
       "   user_uid purchase_Date  join_Date Diffrenece  Paid with in a week\n",
       "0         6    2021-06-04 2021-06-04     0 days                 True\n",
       "1       608           NaT 2021-06-04        NaT                False\n",
       "2       635           NaT 2021-06-04        NaT                False\n",
       "3       745           NaT 2021-06-04        NaT                False\n",
       "4      1506           NaT 2021-06-04        NaT                False"
      ]
     },
     "execution_count": 70,
     "metadata": {},
     "output_type": "execute_result"
    }
   ],
   "source": [
    "#flagged for purchased with in a week\n",
    "user_purchase['Paid with in a week'] = user_purchase['Diffrenece']<='7 days'\n",
    "user_purchase.head()"
   ]
  },
  {
   "cell_type": "code",
   "execution_count": 94,
   "id": "d48129b6",
   "metadata": {},
   "outputs": [
    {
     "data": {
      "text/plain": [
       "Text(0.5, 1.0, 'No of users weekly purchased the course')"
      ]
     },
     "execution_count": 94,
     "metadata": {},
     "output_type": "execute_result"
    },
    {
     "data": {
      "text/plain": [
       "<Figure size 1296x360 with 0 Axes>"
      ]
     },
     "metadata": {},
     "output_type": "display_data"
    },
    {
     "data": {
      "image/png": "[encoded data removed]",
      "text/plain": [
       "<Figure size 432x288 with 1 Axes>"
      ]
     },
     "metadata": {
      "needs_background": "light"
     },
     "output_type": "display_data"
    }
   ],
   "source": [
    "#user_purchase[\"purchase_Date\"] = user_purchase[\"purchase_Date\"].astype(\"datetime64\")\n",
    "#bar = user_purchase.groupby(user_purchase[\"purchase_Date\"].user_purchase.month).count().plot(kind=\"bar\")\n",
    "plt.figure(figsize=(18,5))\n",
    "user_purchase[\"purchase_Date\"] = user_purchase[\"purchase_Date\"].astype(\"datetime64\")\n",
    "user_purchase_date = user_purchase[['purchase_Date']]\n",
    "user_purchase_date.groupby(user_purchase_date[\"purchase_Date\"].dt.isocalendar().week).count().plot(kind=\"bar\")\n",
    "# x-axis label\n",
    "plt.xlabel('Week of the Year')\n",
    "# frequency label\n",
    "plt.ylabel('Total Count')\n",
    "# plot title\n",
    "plt.title('No of users weekly purchased the course')\n"
   ]
  },
  {
   "cell_type": "code",
   "execution_count": 16,
   "id": "3aa8239c",
   "metadata": {},
   "outputs": [
    {
     "data": {
      "text/plain": [
       "False    510\n",
       "True     490\n",
       "Name: Paid with in a week, dtype: int64"
      ]
     },
     "execution_count": 16,
     "metadata": {},
     "output_type": "execute_result"
    }
   ],
   "source": [
    "freq = user_purchase['Paid with in a week'].value_counts()\n",
    "freq.head()"
   ]
  },
  {
   "cell_type": "code",
   "execution_count": 109,
   "id": "de3955b0",
   "metadata": {
    "scrolled": false
   },
   "outputs": [
    {
     "data": {
      "image/png": "[encoded data removed]",
      "text/plain": [
       "<Figure size 864x360 with 1 Axes>"
      ]
     },
     "metadata": {
      "needs_background": "light"
     },
     "output_type": "display_data"
    }
   ],
   "source": [
    "plt.figure(figsize=(12,5))\n",
    "sns.countplot(data=user_purchase,x='Paid with in a week',palette='rainbow')\n",
    "plt.title(\"Number of people purchased with in a week or not\")\n",
    "plt.tight_layout()\n",
    "plt.savefig(\"countplot\")"
   ]
  },
  {
   "cell_type": "markdown",
   "id": "64f79460",
   "metadata": {},
   "source": [
    "#### (Here concluded that  490 users are paid  within a week)"
   ]
  },
  {
   "cell_type": "markdown",
   "id": "f39b541a",
   "metadata": {},
   "source": [
    "## User Video Activity"
   ]
  },
  {
   "cell_type": "code",
   "execution_count": 112,
   "id": "81638fda",
   "metadata": {},
   "outputs": [
    {
     "data": {
      "text/html": [
       "<div>\n",
       "<style scoped>\n",
       "    .dataframe tbody tr th:only-of-type {\n",
       "        vertical-align: middle;\n",
       "    }\n",
       "\n",
       "    .dataframe tbody tr th {\n",
       "        vertical-align: top;\n",
       "    }\n",
       "\n",
       "    .dataframe thead th {\n",
       "        text-align: right;\n",
       "    }\n",
       "</style>\n",
       "<table border=\"1\" class=\"dataframe\">\n",
       "  <thead>\n",
       "    <tr style=\"text-align: right;\">\n",
       "      <th></th>\n",
       "      <th>user_id</th>\n",
       "      <th>watch_instance_id</th>\n",
       "      <th>video_id</th>\n",
       "      <th>duration</th>\n",
       "      <th>watched_duration</th>\n",
       "      <th>watch_perc</th>\n",
       "    </tr>\n",
       "  </thead>\n",
       "  <tbody>\n",
       "    <tr>\n",
       "      <th>count</th>\n",
       "      <td>12907.000000</td>\n",
       "      <td>1.290700e+04</td>\n",
       "      <td>12907.000000</td>\n",
       "      <td>12907.000000</td>\n",
       "      <td>12907.000000</td>\n",
       "      <td>1.289700e+04</td>\n",
       "    </tr>\n",
       "    <tr>\n",
       "      <th>mean</th>\n",
       "      <td>147604.903308</td>\n",
       "      <td>2.597046e+07</td>\n",
       "      <td>25052.587046</td>\n",
       "      <td>1301.076548</td>\n",
       "      <td>481.282018</td>\n",
       "      <td>inf</td>\n",
       "    </tr>\n",
       "    <tr>\n",
       "      <th>std</th>\n",
       "      <td>110460.036213</td>\n",
       "      <td>9.159953e+05</td>\n",
       "      <td>15226.162079</td>\n",
       "      <td>942.394084</td>\n",
       "      <td>681.515109</td>\n",
       "      <td>NaN</td>\n",
       "    </tr>\n",
       "    <tr>\n",
       "      <th>min</th>\n",
       "      <td>6.000000</td>\n",
       "      <td>2.399647e+07</td>\n",
       "      <td>13.000000</td>\n",
       "      <td>0.000000</td>\n",
       "      <td>-3.000000</td>\n",
       "      <td>-3.393665e-01</td>\n",
       "    </tr>\n",
       "    <tr>\n",
       "      <th>25%</th>\n",
       "      <td>55112.000000</td>\n",
       "      <td>2.526961e+07</td>\n",
       "      <td>6857.000000</td>\n",
       "      <td>666.000000</td>\n",
       "      <td>8.000000</td>\n",
       "      <td>6.772009e-01</td>\n",
       "    </tr>\n",
       "    <tr>\n",
       "      <th>50%</th>\n",
       "      <td>129707.000000</td>\n",
       "      <td>2.598465e+07</td>\n",
       "      <td>28736.000000</td>\n",
       "      <td>983.000000</td>\n",
       "      <td>162.000000</td>\n",
       "      <td>2.264054e+01</td>\n",
       "    </tr>\n",
       "    <tr>\n",
       "      <th>75%</th>\n",
       "      <td>228010.000000</td>\n",
       "      <td>2.677103e+07</td>\n",
       "      <td>39458.000000</td>\n",
       "      <td>1740.000000</td>\n",
       "      <td>732.000000</td>\n",
       "      <td>1.000000e+02</td>\n",
       "    </tr>\n",
       "    <tr>\n",
       "      <th>max</th>\n",
       "      <td>404290.000000</td>\n",
       "      <td>2.746554e+07</td>\n",
       "      <td>48576.000000</td>\n",
       "      <td>8514.000000</td>\n",
       "      <td>6197.000000</td>\n",
       "      <td>inf</td>\n",
       "    </tr>\n",
       "  </tbody>\n",
       "</table>\n",
       "</div>"
      ],
      "text/plain": [
       "             user_id  watch_instance_id      video_id      duration  \\\n",
       "count   12907.000000       1.290700e+04  12907.000000  12907.000000   \n",
       "mean   147604.903308       2.597046e+07  25052.587046   1301.076548   \n",
       "std    110460.036213       9.159953e+05  15226.162079    942.394084   \n",
       "min         6.000000       2.399647e+07     13.000000      0.000000   \n",
       "25%     55112.000000       2.526961e+07   6857.000000    666.000000   \n",
       "50%    129707.000000       2.598465e+07  28736.000000    983.000000   \n",
       "75%    228010.000000       2.677103e+07  39458.000000   1740.000000   \n",
       "max    404290.000000       2.746554e+07  48576.000000   8514.000000   \n",
       "\n",
       "       watched_duration    watch_perc  \n",
       "count      12907.000000  1.289700e+04  \n",
       "mean         481.282018           inf  \n",
       "std          681.515109           NaN  \n",
       "min           -3.000000 -3.393665e-01  \n",
       "25%            8.000000  6.772009e-01  \n",
       "50%          162.000000  2.264054e+01  \n",
       "75%          732.000000  1.000000e+02  \n",
       "max         6197.000000           inf  "
      ]
     },
     "execution_count": 112,
     "metadata": {},
     "output_type": "execute_result"
    }
   ],
   "source": [
    "video_activity = pd.read_csv(\"user_video_activity_data.csv\")\n",
    "video_activity['watch_perc'] = (video_activity['watched_duration']/video_activity['duration'])*100 \n",
    "video_activity.head()\n",
    "video_activity.describe()"
   ]
  },
  {
   "cell_type": "code",
   "execution_count": 113,
   "id": "b72889f3",
   "metadata": {
    "scrolled": true
   },
   "outputs": [
    {
     "data": {
      "image/png": "[encoded data removed]",
      "text/plain": [
       "<Figure size 864x360 with 1 Axes>"
      ]
     },
     "metadata": {
      "needs_background": "light"
     },
     "output_type": "display_data"
    }
   ],
   "source": [
    "plt.figure(figsize=(12,5))\n",
    "range = (0, 100)\n",
    "bins = 10 \n",
    "\n",
    "# plotting a histogram\n",
    "plt.hist(video_activity['watch_perc'], bins, range, color = 'green',\n",
    "        histtype = 'bar', rwidth = 0.9 )\n",
    " \n",
    "# x-axis label\n",
    "plt.xlabel('Percentage of watching video')\n",
    "# frequency label\n",
    "plt.ylabel('Total Count')\n",
    "# plot title\n",
    "plt.title('No of users watching the percentage video ')\n",
    " \n",
    "# function to show the plot\n",
    "plt.show()"
   ]
  },
  {
   "cell_type": "markdown",
   "id": "f0f43625",
   "metadata": {},
   "source": [
    "#### (Most of the people are watching (0-10)% percentage of video. second most the people are watching (90-100)%of video) "
   ]
  },
  {
   "cell_type": "markdown",
   "id": "a0f232f7",
   "metadata": {},
   "source": [
    "## Track Subscription"
   ]
  },
  {
   "cell_type": "code",
   "execution_count": 46,
   "id": "b3bdec7a",
   "metadata": {},
   "outputs": [
    {
     "data": {
      "text/html": [
       "<div>\n",
       "<style scoped>\n",
       "    .dataframe tbody tr th:only-of-type {\n",
       "        vertical-align: middle;\n",
       "    }\n",
       "\n",
       "    .dataframe tbody tr th {\n",
       "        vertical-align: top;\n",
       "    }\n",
       "\n",
       "    .dataframe thead th {\n",
       "        text-align: right;\n",
       "    }\n",
       "</style>\n",
       "<table border=\"1\" class=\"dataframe\">\n",
       "  <thead>\n",
       "    <tr style=\"text-align: right;\">\n",
       "      <th></th>\n",
       "      <th>user_id</th>\n",
       "      <th>track_slug</th>\n",
       "      <th>subscription_date</th>\n",
       "    </tr>\n",
       "  </thead>\n",
       "  <tbody>\n",
       "    <tr>\n",
       "      <th>0</th>\n",
       "      <td>6</td>\n",
       "      <td>kerala-psc</td>\n",
       "      <td>2021-06-04</td>\n",
       "    </tr>\n",
       "    <tr>\n",
       "      <th>1</th>\n",
       "      <td>6</td>\n",
       "      <td>KTET</td>\n",
       "      <td>2021-06-04</td>\n",
       "    </tr>\n",
       "    <tr>\n",
       "      <th>2</th>\n",
       "      <td>608</td>\n",
       "      <td>spoken-english</td>\n",
       "      <td>2021-06-04</td>\n",
       "    </tr>\n",
       "    <tr>\n",
       "      <th>3</th>\n",
       "      <td>608</td>\n",
       "      <td>APPSC</td>\n",
       "      <td>2021-06-04</td>\n",
       "    </tr>\n",
       "    <tr>\n",
       "      <th>4</th>\n",
       "      <td>608</td>\n",
       "      <td>Eng_With_Awal</td>\n",
       "      <td>2021-06-04</td>\n",
       "    </tr>\n",
       "  </tbody>\n",
       "</table>\n",
       "</div>"
      ],
      "text/plain": [
       "   user_id      track_slug subscription_date\n",
       "0        6      kerala-psc        2021-06-04\n",
       "1        6            KTET        2021-06-04\n",
       "2      608  spoken-english        2021-06-04\n",
       "3      608           APPSC        2021-06-04\n",
       "4      608   Eng_With_Awal        2021-06-04"
      ]
     },
     "execution_count": 46,
     "metadata": {},
     "output_type": "execute_result"
    }
   ],
   "source": [
    "track_subscription = pd.read_csv(\"track_subscription_data.csv\")\n",
    "track_subscription.head()"
   ]
  },
  {
   "cell_type": "code",
   "execution_count": 74,
   "id": "9ef2482f",
   "metadata": {},
   "outputs": [
    {
     "data": {
      "text/plain": [
       "Spoken_eng_hindi    284\n",
       "spoken-english      213\n",
       "kerala-psc          163\n",
       "BANK-INS             64\n",
       "ssc                  57\n",
       "Eng_Inver_Coc        56\n",
       "TNPSC                56\n",
       "rrb                  53\n",
       "Apti_ess             44\n",
       "Anb_eng              43\n",
       "Name: track_slug, dtype: int64"
      ]
     },
     "execution_count": 74,
     "metadata": {},
     "output_type": "execute_result"
    }
   ],
   "source": [
    "#Top 10 Courses subscribed by users\n",
    "freq = track_subscription['track_slug'].value_counts().sort_values(ascending=False)\n",
    "freq.head(10)\n"
   ]
  },
  {
   "cell_type": "code",
   "execution_count": 79,
   "id": "74a5c303",
   "metadata": {},
   "outputs": [
    {
     "data": {
      "image/png": "[encoded data removed]",
      "text/plain": [
       "<Figure size 1152x360 with 1 Axes>"
      ]
     },
     "metadata": {
      "needs_background": "light"
     },
     "output_type": "display_data"
    }
   ],
   "source": [
    "plt.figure(figsize=(16,5))\n",
    "plt.xticks(rotation=90)\n",
    "sns.countplot(data=track_subscription,x='track_slug',palette='rainbow')\n",
    "plt.title(\" Count Plot for Coursers Subcribed\")\n",
    "plt.tight_layout()\n",
    "plt.savefig(\"countplot\")"
   ]
  },
  {
   "cell_type": "markdown",
   "id": "0b4a9496",
   "metadata": {},
   "source": [
    "#### (Most of people  purchased coursers are Spoken_eng_hindi, spoken-english, kerala-psc ) "
   ]
  },
  {
   "cell_type": "markdown",
   "id": "de2c8e0e",
   "metadata": {},
   "source": [
    "## Quiz Attempt "
   ]
  },
  {
   "cell_type": "code",
   "execution_count": 34,
   "id": "8e4966ef",
   "metadata": {},
   "outputs": [
    {
     "data": {
      "text/html": [
       "<div>\n",
       "<style scoped>\n",
       "    .dataframe tbody tr th:only-of-type {\n",
       "        vertical-align: middle;\n",
       "    }\n",
       "\n",
       "    .dataframe tbody tr th {\n",
       "        vertical-align: top;\n",
       "    }\n",
       "\n",
       "    .dataframe thead th {\n",
       "        text-align: right;\n",
       "    }\n",
       "</style>\n",
       "<table border=\"1\" class=\"dataframe\">\n",
       "  <thead>\n",
       "    <tr style=\"text-align: right;\">\n",
       "      <th></th>\n",
       "      <th>user_id</th>\n",
       "      <th>attempt_id</th>\n",
       "      <th>started_at</th>\n",
       "      <th>status</th>\n",
       "      <th>no_of_questions</th>\n",
       "      <th>question_attempted</th>\n",
       "    </tr>\n",
       "  </thead>\n",
       "  <tbody>\n",
       "    <tr>\n",
       "      <th>0</th>\n",
       "      <td>1506</td>\n",
       "      <td>50839743</td>\n",
       "      <td>None</td>\n",
       "      <td>CREATE</td>\n",
       "      <td>10</td>\n",
       "      <td>0</td>\n",
       "    </tr>\n",
       "    <tr>\n",
       "      <th>1</th>\n",
       "      <td>1506</td>\n",
       "      <td>50839752</td>\n",
       "      <td>None</td>\n",
       "      <td>PAUSE</td>\n",
       "      <td>10</td>\n",
       "      <td>10</td>\n",
       "    </tr>\n",
       "    <tr>\n",
       "      <th>2</th>\n",
       "      <td>1642</td>\n",
       "      <td>50842794</td>\n",
       "      <td>2021-06-04 16:52:25.634573+00:00</td>\n",
       "      <td>COMPLETE</td>\n",
       "      <td>10</td>\n",
       "      <td>10</td>\n",
       "    </tr>\n",
       "    <tr>\n",
       "      <th>3</th>\n",
       "      <td>1642</td>\n",
       "      <td>50843057</td>\n",
       "      <td>2021-06-04 16:55:37.917805+00:00</td>\n",
       "      <td>COMPLETE</td>\n",
       "      <td>10</td>\n",
       "      <td>10</td>\n",
       "    </tr>\n",
       "    <tr>\n",
       "      <th>4</th>\n",
       "      <td>1642</td>\n",
       "      <td>50843164</td>\n",
       "      <td>None</td>\n",
       "      <td>CREATE</td>\n",
       "      <td>10</td>\n",
       "      <td>0</td>\n",
       "    </tr>\n",
       "  </tbody>\n",
       "</table>\n",
       "</div>"
      ],
      "text/plain": [
       "   user_id  attempt_id                        started_at    status  \\\n",
       "0     1506    50839743                              None    CREATE   \n",
       "1     1506    50839752                              None     PAUSE   \n",
       "2     1642    50842794  2021-06-04 16:52:25.634573+00:00  COMPLETE   \n",
       "3     1642    50843057  2021-06-04 16:55:37.917805+00:00  COMPLETE   \n",
       "4     1642    50843164                              None    CREATE   \n",
       "\n",
       "   no_of_questions  question_attempted  \n",
       "0               10                   0  \n",
       "1               10                  10  \n",
       "2               10                  10  \n",
       "3               10                  10  \n",
       "4               10                   0  "
      ]
     },
     "execution_count": 34,
     "metadata": {},
     "output_type": "execute_result"
    }
   ],
   "source": [
    "user_quiz_attempt_data = pd.read_csv(\"user_quiz_attempt_data.csv\")\n",
    "user_quiz_attempt_data.head()"
   ]
  },
  {
   "cell_type": "code",
   "execution_count": 46,
   "id": "d23f949e",
   "metadata": {},
   "outputs": [],
   "source": [
    "#status= ['PAUSE','COMPLETE','PROGRESS','CREATE']\n",
    "user_quiz_attempt_data['attempt_perc'] = (user_quiz_attempt_data['question_attempted']/user_quiz_attempt_data['no_of_questions'])*100\n",
    "user_quiz_attempt_pause = user_quiz_attempt_data[user_quiz_attempt_data.status.isin(['PAUSE'])]\n",
    "user_quiz_attempt_complete = user_quiz_attempt_data[user_quiz_attempt_data.status.isin(['COMPLETE'])]\n",
    "user_quiz_attempt_progress = user_quiz_attempt_data[user_quiz_attempt_data.status.isin(['PROGRESS'])]\n",
    "user_quiz_attempt_create = user_quiz_attempt_data[user_quiz_attempt_data.status.isin(['CREATE'])]\n"
   ]
  },
  {
   "cell_type": "code",
   "execution_count": 97,
   "id": "f1b65db5",
   "metadata": {
    "scrolled": true
   },
   "outputs": [
    {
     "data": {
      "image/png": "[encoded data removed]",
      "text/plain": [
       "<Figure size 864x360 with 1 Axes>"
      ]
     },
     "metadata": {
      "needs_background": "light"
     },
     "output_type": "display_data"
    }
   ],
   "source": [
    "plt.figure(figsize=(12,5))\n",
    "range = (0, 100)\n",
    "bins = 10 \n",
    "\n",
    "# plotting a histogram\n",
    "plt.hist(user_quiz_attempt_complete['attempt_perc'], bins, range, color = 'green',\n",
    "        histtype = 'bar', rwidth = 0.9 )\n",
    " \n",
    "# x-axis label\n",
    "plt.xlabel('Percentage of attempet')\n",
    "# frequency label\n",
    "plt.ylabel('Total Count')\n",
    "# plot title\n",
    "plt.title('No of users Attempt percentage of quiz ')\n",
    " \n",
    "# function to show the plot\n",
    "plt.show()"
   ]
  },
  {
   "cell_type": "markdown",
   "id": "570e9d11",
   "metadata": {},
   "source": [
    "###### (Most of the people (90-100)% of quiz Completed)\n"
   ]
  },
  {
   "cell_type": "code",
   "execution_count": 96,
   "id": "8ec80678",
   "metadata": {},
   "outputs": [
    {
     "data": {
      "text/html": [
       "<details>\n",
       "<summary>Click to view session information</summary>\n",
       "<pre>\n",
       "-----\n",
       "matplotlib          3.3.4\n",
       "numpy               1.20.1\n",
       "pandas              1.2.4\n",
       "seaborn             0.11.1\n",
       "session_info        1.0.0\n",
       "-----\n",
       "</pre>\n",
       "<details>\n",
       "<summary>Click to view modules imported as dependencies</summary>\n",
       "<pre>\n",
       "PIL                 8.2.0\n",
       "anyio               NA\n",
       "attr                20.3.0\n",
       "babel               2.9.0\n",
       "backcall            0.2.0\n",
       "bottleneck          1.3.2\n",
       "brotli              NA\n",
       "certifi             2020.12.05\n",
       "cffi                1.14.5\n",
       "chardet             4.0.0\n",
       "colorama            0.4.4\n",
       "cycler              0.10.0\n",
       "cython_runtime      NA\n",
       "dateutil            2.8.1\n",
       "decorator           5.0.6\n",
       "idna                2.10\n",
       "ipykernel           5.3.4\n",
       "ipython_genutils    0.2.0\n",
       "ipywidgets          7.6.3\n",
       "jedi                0.17.2\n",
       "jinja2              2.11.3\n",
       "json5               NA\n",
       "jsonschema          3.2.0\n",
       "jupyter_server      1.4.1\n",
       "jupyterlab_server   2.4.0\n",
       "kiwisolver          1.3.1\n",
       "markupsafe          1.1.1\n",
       "mkl                 2.3.0\n",
       "mpl_toolkits        NA\n",
       "nbclassic           NA\n",
       "nbformat            5.1.3\n",
       "nt                  NA\n",
       "ntsecuritycon       NA\n",
       "numexpr             2.7.3\n",
       "packaging           20.9\n",
       "parso               0.7.0\n",
       "pickleshare         0.7.5\n",
       "pkg_resources       NA\n",
       "prometheus_client   NA\n",
       "prompt_toolkit      3.0.17\n",
       "pvectorc            NA\n",
       "pygments            2.8.1\n",
       "pyparsing           2.4.7\n",
       "pyrsistent          NA\n",
       "pythoncom           NA\n",
       "pytz                2021.1\n",
       "pywintypes          NA\n",
       "requests            2.25.1\n",
       "scipy               1.6.2\n",
       "send2trash          NA\n",
       "six                 1.15.0\n",
       "sniffio             1.2.0\n",
       "socks               1.7.1\n",
       "sphinxcontrib       NA\n",
       "statsmodels         0.12.2\n",
       "storemagic          NA\n",
       "tornado             6.1\n",
       "traitlets           5.0.5\n",
       "urllib3             1.26.4\n",
       "wcwidth             0.2.5\n",
       "win32api            NA\n",
       "win32com            NA\n",
       "win32security       NA\n",
       "zmq                 20.0.0\n",
       "zope                NA\n",
       "</pre>\n",
       "</details> <!-- seems like this ends pre, so might as well be explicit -->\n",
       "<pre>\n",
       "-----\n",
       "IPython             7.22.0\n",
       "jupyter_client      6.1.12\n",
       "jupyter_core        4.7.1\n",
       "jupyterlab          3.0.14\n",
       "notebook            6.3.0\n",
       "-----\n",
       "Python 3.8.8 (default, Apr 13 2021, 15:08:03) [MSC v.1916 64 bit (AMD64)]\n",
       "Windows-7-6.1.7601-SP1\n",
       "-----\n",
       "Session information updated at 2021-11-09 20:55\n",
       "</pre>\n",
       "</details>"
      ],
      "text/plain": [
       "<IPython.core.display.HTML object>"
      ]
     },
     "execution_count": 96,
     "metadata": {},
     "output_type": "execute_result"
    }
   ],
   "source": [
    "import session_info\n",
    "session_info.show()"
   ]
  }
 ],
 "metadata": {
  "kernelspec": {
   "display_name": "Python 3",
   "language": "python",
   "name": "python3"
  },
  "language_info": {
   "codemirror_mode": {
    "name": "ipython",
    "version": 3
   },
   "file_extension": ".py",
   "mimetype": "text/x-python",
   "name": "python",
   "nbconvert_exporter": "python",
   "pygments_lexer": "ipython3",
   "version": "3.8.8"
  }
 },
 "nbformat": 4,
 "nbformat_minor": 5
}
